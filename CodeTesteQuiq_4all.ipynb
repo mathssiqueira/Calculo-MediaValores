{
  "nbformat": 4,
  "nbformat_minor": 0,
  "metadata": {
    "colab": {
      "name": "CodeTesteQuiq - 4all.ipynb",
      "provenance": [],
      "collapsed_sections": []
    },
    "kernelspec": {
      "display_name": "Python 3",
      "name": "python3"
    },
    "language_info": {
      "name": "python"
    }
  },
  "cells": [
    {
      "cell_type": "markdown",
      "metadata": {
        "id": "d6fjIPQGLKda"
      },
      "source": [
        "-\tCalcule a média aritmética dos preços de um estabelecimento, e adicione ela ao JSON.\n",
        "-\tOrdene de forma decrescente, baseado no valor da média aritmética calculado no passo anterior.\n"
      ]
    },
    {
      "cell_type": "code",
      "metadata": {
        "id": "VAzQEf1mHIvh"
      },
      "source": [
        "#importando Bibliotecas\n",
        "import json"
      ],
      "execution_count": null,
      "outputs": []
    },
    {
      "cell_type": "code",
      "metadata": {
        "id": "lUqOokyOGwQ7"
      },
      "source": [
        "#Lendo arquivo data.json\n",
        "dataJsonFile = open('data.json', 'r')\n",
        "dataJsonData = json.load(dataJsonFile)"
      ],
      "execution_count": null,
      "outputs": []
    },
    {
      "cell_type": "code",
      "metadata": {
        "id": "EwU3jMOAJ4wn"
      },
      "source": [
        "#Criando Função Categoria\n",
        "def categoria_comida(categories):\n",
        "  for categoria in categories:\n",
        "    for id in produto['categoriesId']:\n",
        "      if id == categoria['id']:\n",
        "        categoria_nome = (categoria['name'])\n",
        "        return categoria_nome"
      ],
      "execution_count": null,
      "outputs": []
    },
    {
      "cell_type": "code",
      "metadata": {
        "id": "-LXo7Mk3KAhY"
      },
      "source": [
        "#Criando Função para Geração de Médias\n",
        "def media(products): # possivel método para calcular a média\n",
        "  valores = []\n",
        "  for produto in products:\n",
        "    for i in estabelecimento['productsId']:\n",
        "      if i == produto['id']:\n",
        "        preco = (int(produto['price']) / 100)\n",
        "        valores.append(preco)\n",
        "        tam = len(valores)\n",
        "        soma = sum(valores)\n",
        "        valor = soma/tam\n",
        "  return valor"
      ],
      "execution_count": null,
      "outputs": []
    },
    {
      "cell_type": "code",
      "metadata": {
        "id": "pvO9SUzEYKsr"
      },
      "source": [
        "establishments = dataJsonData['establishments']\n",
        "products = dataJsonData['products']\n",
        "categories = dataJsonData['categories']\n",
        "\n",
        "saidaJson = []\n",
        "\n",
        "for estabelecimento in reversed(establishments):  \n",
        "  estabelecimento_nome = estabelecimento['name']\n",
        "  media_produtos = format(media(products), '.2f')\n",
        "  for produto in products:\n",
        "    for i in estabelecimento['productsId']:\n",
        "      if i == produto['id']:\n",
        "        categoria_nome = categoria_comida(categories)\n",
        "        produto_nome = produto['name']\n",
        "        preco = (int(produto['price']) / 100)\n",
        "\n",
        "        saidaJson.append({f'establishment {estabelecimento_nome}': {'avgPrice': media_produtos , f'category {categoria_nome}' : {f'product {produto_nome}': {'price': preco }}}})\n",
        "\n",
        "        with open('saida.json', 'w', encoding='utf-8') as saida:\n",
        "          json.dump(saidaJson, saida, ensure_ascii=False, indent=4)"
      ],
      "execution_count": null,
      "outputs": []
    }
  ]
}